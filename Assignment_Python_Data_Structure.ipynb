{
  "nbformat": 4,
  "nbformat_minor": 0,
  "metadata": {
    "colab": {
      "provenance": []
    },
    "kernelspec": {
      "name": "python3",
      "display_name": "Python 3"
    },
    "language_info": {
      "name": "python"
    }
  },
  "cells": [
    {
      "cell_type": "markdown",
      "source": [
        "# Data Types and Structures Questions\n"
      ],
      "metadata": {
        "id": "hf7Ufoc9BGwb"
      }
    },
    {
      "cell_type": "markdown",
      "source": [
        "1. What are data structures, and why are they important?\n",
        "   - Data structures are specialized formats for organizing, storing, and accessing collections of data. They provide efficient ways to manage information based on its characteristics and intended use.\n",
        "Think of them as containers that hold your data and determine how you can interact with it. Different containers are better suited for different types of items.\n",
        "\n",
        "    Their importants : Choosing the right data structure significantly impacts the efficiency and performance of your program.\n",
        "Well-chosen data structures can.\n",
        "Simplify data manipulation (adding, removing, modifying elements)\n",
        "Optimize searching and sorting operations\n",
        "Conserve memory usage"
      ],
      "metadata": {
        "id": "l5Rx_fDgBWqs"
      }
    },
    {
      "cell_type": "markdown",
      "source": [
        "2.  Explain the difference between mutable and immutable data types with examples\n",
        "   - The difference between mutable and immutable data types in programming (especially in Python) centers on whether or not the object’s state (content) can be changed after it is created.\n",
        "\n",
        "  > Mutable Data Types :\n",
        "    Definition:\n",
        "    Objects whose values can be changed after creation.\n",
        "    Common examples: list, dict, set, bytearray\n",
        "\n",
        "  >Immutable Data Types :    \n",
        "    Definition: Objects whose values cannot be changed once created. Any operation that seems to modify them actually creates a new object.\n",
        "    Common examples: int, float, bool, str, tuple, frozenset, bytes"
      ],
      "metadata": {
        "id": "ozvNm8JwDO0j"
      }
    },
    {
      "cell_type": "markdown",
      "source": [
        "3. What are the main differences between lists and tuples in Python?\n",
        "   - The main differences between lists and tuples in Python come down to mutability, syntax, and usage. Here's a clear breakdown.A list is a mutable data type, which means its contents (elements) can be changed after it is created.And a tuple is an immutable data type, which means its contents cannot be changed after it is created."
      ],
      "metadata": {
        "id": "KeMkmkE2GKVA"
      }
    },
    {
      "cell_type": "markdown",
      "source": [
        "4. Describe how dictionaries store data.\n",
        "   - In Python, a dictionary is a built-in data type that stores data in key-value pairs. Each key is unique, and it maps to a value."
      ],
      "metadata": {
        "id": "9EPV7HCre_Ty"
      }
    },
    {
      "cell_type": "markdown",
      "source": [
        "5. Why might you use a set instead of a list in Python?\n",
        "   - You might use a set instead of a list in Python because:\n",
        "\n",
        "  > Sets automatically remove duplicates.\n",
        "\n",
        "  > Sets offer faster lookup (O(1) time on average).\n",
        "\n",
        "  > Sets support mathematical operations like union and intersection.\n",
        "\n",
        "  > Sets are more efficient when working with unique items.\n",
        "\n",
        "    Use a set when you need unique values and quick membership tests."
      ],
      "metadata": {
        "id": "n9jUFHqPfv5P"
      }
    },
    {
      "cell_type": "markdown",
      "source": [
        "6. What is a string in Python, and how is it different from a list?\n",
        "   - A string in Python is a sequence of characters used to represent textual data. It is an immutable data type, meaning once a string is created, its contents cannot be changed.\n",
        "\n",
        "    A list, on the other hand, is a mutable sequence that can hold elements of any data type, including numbers, strings, or other lists. Lists can be modified after creation by adding, removing, or changing elements."
      ],
      "metadata": {
        "id": "LmePEi-AhOlp"
      }
    },
    {
      "cell_type": "markdown",
      "source": [
        "7. How do tuples ensure data integrity in Python?\n",
        "   - Tuples in Python ensure data integrity primarily through their immutability. Once a tuple is created, its elements cannot be modified, added, or removed. This unchangeable nature protects the data from accidental changes during program execution.\n",
        "\n",
        "    Because tuples are immutable, they maintain consistent and fixed values, which is crucial when data must remain reliable and unchanged. This makes tuples suitable for representing constant data, such as coordinates, dates, or configuration settings."
      ],
      "metadata": {
        "id": "s4Oci1xqiasg"
      }
    },
    {
      "cell_type": "markdown",
      "source": [
        "8. What is a hash table, and how does it relate to dictionaries in Python.\n",
        "   - A hash table is a data structure that stores data in key-value pairs and uses a hash function to compute an index into an array of buckets or slots. This index determines where the key-value pair should be stored.\n",
        "\n",
        "    In Python, the dictionary (dict) is implemented using a hash table. When a key is added to a dictionary:\n",
        "\n",
        "    Python applies a hash function to the key to generate a unique hash value.\n",
        "\n",
        "    This hash value determines the index in the internal array where the value will be stored.\n",
        "\n",
        "    When accessing a value, the key is hashed again, and the result is used to quickly locate the value.\n",
        "    a hash table is the core mechanism that powers Python's dictionary data type, enabling fast and reliable key-based data storage.\n",
        "    a hash table is the core mechanism that powers Python's dictionary data type, enabling fast and reliable key-based data storage.\n",
        "\n",
        "    A hash table is the core mechanism that powers Python's dictionary data type, enabling fast and reliable key-based data storage."
      ],
      "metadata": {
        "id": "d6b6_cHQkd2e"
      }
    },
    {
      "cell_type": "markdown",
      "source": [
        "9. Can lists contain different data types in Python?\n",
        "   - Yes, lists can contain different data types in Python.\n",
        "\n",
        "    Python lists are heterogeneous, meaning they can store elements of multiple data types within the same list. This includes integers, strings, floats, other lists, or even custom objects.\n",
        "\n",
        "    This flexibility is possible because Python is a dynamically typed language, allowing each list element to reference a different type of object.  "
      ],
      "metadata": {
        "id": "RLI5xx9DluZi"
      }
    },
    {
      "cell_type": "markdown",
      "source": [
        "10. Explain why strings are immutable in Python.\n",
        "   - Strings in Python are immutable, meaning their contents cannot be changed after creation. This design choice is intentional and offers several important benefits.Strings are immutable in Python to provide security, reliability, and efficiency in data handling and program execution."
      ],
      "metadata": {
        "id": "v2m9CufDmmx4"
      }
    },
    {
      "cell_type": "markdown",
      "source": [
        "11. What advantages do dictionaries offer over lists for certain tasks?\n",
        "   - Dictionaries offer several advantages over lists for specific tasks, especially when working with key-based data.\n",
        "   Dictionaries are more efficient and meaningful than lists when you need:\n",
        "\n",
        "   > Fast data lookup\n",
        "\n",
        "   > Meaningful key-based access\n",
        "\n",
        "   > Associating pairs of related data\n",
        "\n",
        "    They are especially useful for tasks involving mapping, labeling, and grouping data logically."
      ],
      "metadata": {
        "id": "gLWj2K0fneqZ"
      }
    },
    {
      "cell_type": "markdown",
      "source": [
        "12. Describe a scenario where using a tuple would be preferable over a list.\n",
        "   - A tuple is preferable over a list when you want to store a fixed collection of values that should not be changed throughout the program. Since tuples are immutable, they protect the data from accidental modification."
      ],
      "metadata": {
        "id": "M3fgbKaoprex"
      }
    },
    {
      "cell_type": "markdown",
      "source": [
        "13. How do sets handle duplicate values in Python?\n",
        "   - In Python, sets automatically eliminate duplicate values. A set is a collection of unique elements, which means:\n",
        "\n",
        "    When you add duplicate items to a set, only one copy is stored.\n",
        "\n",
        "    Internally, Python uses hashing to determine whether an element already exists in the set.\n",
        "\n",
        "    If an element with the same hash is already present, the new (duplicate) element is ignored.\n",
        "\n",
        "    Sets handle duplicate values by not allowing them—only one instance of each unique element is kept. This makes sets ideal for storing collections where uniqueness is important."
      ],
      "metadata": {
        "id": "R4Cgz5EMp60l"
      }
    },
    {
      "cell_type": "markdown",
      "source": [
        " 14. How does the “in” keyword work differently for lists and dictionaries?\n",
        "    - The in keyword is used in Python to check membership, but it behaves differently for lists and dictionaries.\n",
        "    \n",
        "   >  In lists, in checks for values using linear search.\n",
        "\n",
        "   >  In dictionaries, in checks for keys using fast hash-based lookup."
      ],
      "metadata": {
        "id": "fJHDrvWlsYFL"
      }
    },
    {
      "cell_type": "markdown",
      "source": [
        "15. Can you modify the elements of a tuple? Explain why or why not.\n",
        "   - No, you cannot modify the elements of a tuple in Python. Tuples are immutable, meaning that once a tuple is created, its elements cannot be changed, added, or removed."
      ],
      "metadata": {
        "id": "dYr0lFvNxgfU"
      }
    },
    {
      "cell_type": "markdown",
      "source": [
        "16. What is a nested dictionary, and give an example of its use case?\n",
        "   - A nested dictionary is a dictionary within another dictionary. In other words, it allows you to store hierarchical or structured data, where each value in the outer dictionary is itself a dictionary."
      ],
      "metadata": {
        "id": "xC_H0T4SxyM6"
      }
    },
    {
      "cell_type": "markdown",
      "source": [
        "17.  Describe the time complexity of accessing elements in a dictionary.\n",
        "   - In Python, accessing elements in a dictionary by key has an average-case time complexity of O(1) — also known as constant time."
      ],
      "metadata": {
        "id": "KctJr-oiyE3w"
      }
    },
    {
      "cell_type": "markdown",
      "source": [
        "18. In what situations are lists preferred over dictionaries?\n",
        "   - Lists are preferred when:\n",
        "\n",
        "     Data is ordered\n",
        "\n",
        "     Only values are needed\n",
        "\n",
        "     Indexing is important\n",
        "\n",
        "     Duplicates are allowed\n",
        "\n",
        "     Simplicity and sequential data structure are sufficient\n",
        "\n",
        "     Dictionaries are better for key-based, unordered, or associative data."
      ],
      "metadata": {
        "id": "8lQwpSJFyVM_"
      }
    },
    {
      "cell_type": "markdown",
      "source": [
        "19. Why are dictionaries considered unordered, and how does that affect data retrieva?\n",
        "   - Dictionaries were once considered unordered due to their hash-based structure. Although they now preserve insertion order (in newer Python versions), they are still best used when you need fast lookups by key, not for maintaining or processing data in a specific sequence."
      ],
      "metadata": {
        "id": "OZBEXO9Jywut"
      }
    },
    {
      "cell_type": "markdown",
      "source": [
        "20. Explain the difference between a list and a dictionary in terms of data retrieval.\n",
        "   -  List:\n",
        "     Retrieval by Index:\n",
        "     Data is retrieved using a numerical index, such as list[0], list[1], etc.\n",
        "\n",
        "     Search Speed:\n",
        "     If you don’t know the index, finding an item requires a linear search (O(n) time complexity).\n",
        "     \n",
        "      Dictionary:\n",
        "     Retrieval by Key:\n",
        "     Data is retrieved using a unique key, like dict[\"name\"].\n",
        "\n",
        "     Search Speed:\n",
        "     Dictionary lookups are fast, with average-case O(1) time complexity, because of hashing.\n",
        "\n"
      ],
      "metadata": {
        "id": "AYVeVCvlzDuq"
      }
    },
    {
      "cell_type": "markdown",
      "source": [
        "#Practical Questions"
      ],
      "metadata": {
        "id": "WAzvYUOm0uiU"
      }
    },
    {
      "cell_type": "code",
      "source": [
        "# 1.Write a code to create a string with your name and print it.\n",
        "\n",
        "my_name = \"Jishan\"\n",
        "\n",
        "print(my_name)"
      ],
      "metadata": {
        "colab": {
          "base_uri": "https://localhost:8080/"
        },
        "id": "TKGb7cBf1I7m",
        "outputId": "f3c935be-06c1-40d2-f24a-309051ef63f2"
      },
      "execution_count": 87,
      "outputs": [
        {
          "output_type": "stream",
          "name": "stdout",
          "text": [
            "Jishan\n"
          ]
        }
      ]
    },
    {
      "cell_type": "code",
      "source": [
        "# 2.Write a code to find the length of the string \"Hello World\".\n",
        "\n",
        "text = \"Hello World\"\n",
        "\n",
        "length = len(text)\n",
        "\n",
        "print(\"Length of the string:\", length)"
      ],
      "metadata": {
        "colab": {
          "base_uri": "https://localhost:8080/"
        },
        "id": "o4NQnphf2MNc",
        "outputId": "ee73ca6f-2fc4-4ad6-a4dd-795cedf12f32"
      },
      "execution_count": 86,
      "outputs": [
        {
          "output_type": "stream",
          "name": "stdout",
          "text": [
            "Length of the string: 11\n"
          ]
        }
      ]
    },
    {
      "cell_type": "code",
      "source": [
        "# 3.Write a code to slice the first 3 characters from the string \"Python Programming\".\n",
        "\n",
        "text = \"Python Programming\"\n",
        "\n",
        "sliced_text = text[:3]\n",
        "\n",
        "print(\"First 3 characters:\", sliced_text)"
      ],
      "metadata": {
        "colab": {
          "base_uri": "https://localhost:8080/"
        },
        "id": "hN9eWPnu22Xg",
        "outputId": "f3c55b7b-f36a-4bd5-be75-8225acb38906"
      },
      "execution_count": 85,
      "outputs": [
        {
          "output_type": "stream",
          "name": "stdout",
          "text": [
            "First 3 characters: Pyt\n"
          ]
        }
      ]
    },
    {
      "cell_type": "code",
      "source": [
        "# 4.Write a code to convert the string \"hello\" to uppercase.\n",
        "\n",
        "text = \"hello\"\n",
        "\n",
        "uppercase_text = text.upper()\n",
        "\n",
        "print(\"Uppercase:\", uppercase_text)"
      ],
      "metadata": {
        "colab": {
          "base_uri": "https://localhost:8080/"
        },
        "id": "mLEhl7Fv3XEj",
        "outputId": "93531cda-0ad5-4634-b15d-9a0fd60d861e"
      },
      "execution_count": 84,
      "outputs": [
        {
          "output_type": "stream",
          "name": "stdout",
          "text": [
            "Uppercase: HELLO\n"
          ]
        }
      ]
    },
    {
      "cell_type": "code",
      "source": [
        "# 5.Write a code to replace the word \"apple\" with \"orange\" in the string \"I like apple\".\n",
        "\n",
        "text = \"I like apple\"\n",
        "\n",
        "new_text = text.replace(\"apple\", \"orange\")\n",
        "\n",
        "print(new_text)"
      ],
      "metadata": {
        "colab": {
          "base_uri": "https://localhost:8080/"
        },
        "id": "uPKY92Wb3wHt",
        "outputId": "ac468d0f-43e9-461c-e934-039972ed81bd"
      },
      "execution_count": 83,
      "outputs": [
        {
          "output_type": "stream",
          "name": "stdout",
          "text": [
            "I like orange\n"
          ]
        }
      ]
    },
    {
      "cell_type": "code",
      "source": [
        "# 6.Write a code to create a list with numbers 1 to 5 and print it.\n",
        "\n",
        "numbers = [1, 2, 3, 4, 5]\n",
        "\n",
        "print(numbers)"
      ],
      "metadata": {
        "colab": {
          "base_uri": "https://localhost:8080/"
        },
        "id": "xwokQ9Xc4M6C",
        "outputId": "70d946cf-cd0d-4582-c780-19112a3163d0"
      },
      "execution_count": 82,
      "outputs": [
        {
          "output_type": "stream",
          "name": "stdout",
          "text": [
            "[1, 2, 3, 4, 5]\n"
          ]
        }
      ]
    },
    {
      "cell_type": "code",
      "source": [
        "# 7.Write a code to append the number 10 to the list [1, 2, 3, 4].\n",
        "\n",
        "numbers = [1, 2, 3, 4]\n",
        "\n",
        "numbers.append(10)\n",
        "\n",
        "print(numbers)"
      ],
      "metadata": {
        "colab": {
          "base_uri": "https://localhost:8080/"
        },
        "id": "H6vuFK-M5BQE",
        "outputId": "9b9c6aa4-9e7c-4e80-ce1a-a1fcd2eec0c8"
      },
      "execution_count": 81,
      "outputs": [
        {
          "output_type": "stream",
          "name": "stdout",
          "text": [
            "[1, 2, 3, 4, 10]\n"
          ]
        }
      ]
    },
    {
      "cell_type": "code",
      "source": [
        "# 8.Write a code to remove the number 3 from the list [1, 2, 3, 4, 5].\n",
        "\n",
        "numbers = [1, 2, 3, 4, 5]\n",
        "\n",
        "numbers.remove(3)\n",
        "\n",
        "print(numbers)"
      ],
      "metadata": {
        "id": "-aMksezg9WYv",
        "colab": {
          "base_uri": "https://localhost:8080/"
        },
        "outputId": "df48b80b-7ab0-42ca-b004-efbb7644f070"
      },
      "execution_count": 80,
      "outputs": [
        {
          "output_type": "stream",
          "name": "stdout",
          "text": [
            "[1, 2, 4, 5]\n"
          ]
        }
      ]
    },
    {
      "cell_type": "code",
      "source": [
        "# 9.Write a code to access the second element in the list ['a', 'b', 'c', 'd'].\n",
        "\n",
        "letters = ['a', 'b', 'c', 'd']\n",
        "\n",
        "letters[1]"
      ],
      "metadata": {
        "colab": {
          "base_uri": "https://localhost:8080/",
          "height": 35
        },
        "id": "XwZkLmsSVVVH",
        "outputId": "0f70be5f-2a74-457b-9948-87ce6c1b9001"
      },
      "execution_count": 79,
      "outputs": [
        {
          "output_type": "execute_result",
          "data": {
            "text/plain": [
              "'b'"
            ],
            "application/vnd.google.colaboratory.intrinsic+json": {
              "type": "string"
            }
          },
          "metadata": {},
          "execution_count": 79
        }
      ]
    },
    {
      "cell_type": "code",
      "source": [
        "# 10.Write a code to reverse the list [10, 20, 30, 40, 50].\n",
        "\n",
        "numbers = [10, 20, 30, 40, 50]\n",
        "\n",
        "numbers.reverse()\n",
        "\n",
        "numbers"
      ],
      "metadata": {
        "colab": {
          "base_uri": "https://localhost:8080/"
        },
        "id": "I-3ds6R8WpNE",
        "outputId": "09287989-7b91-49af-bd43-77f7eed8c39a"
      },
      "execution_count": 78,
      "outputs": [
        {
          "output_type": "execute_result",
          "data": {
            "text/plain": [
              "[50, 40, 30, 20, 10]"
            ]
          },
          "metadata": {},
          "execution_count": 78
        }
      ]
    },
    {
      "cell_type": "code",
      "source": [
        "# 11.Write a code to create a tuple with the elements 100, 200, 300 and print it.\n",
        "\n",
        "my_tuple = (100, 200, 300)\n",
        "\n",
        "my_tuple"
      ],
      "metadata": {
        "colab": {
          "base_uri": "https://localhost:8080/"
        },
        "id": "1Eomz4NfY7zl",
        "outputId": "824e47a8-f1d4-47e4-9f7b-a251a56e75f0"
      },
      "execution_count": 77,
      "outputs": [
        {
          "output_type": "execute_result",
          "data": {
            "text/plain": [
              "(100, 200, 300)"
            ]
          },
          "metadata": {},
          "execution_count": 77
        }
      ]
    },
    {
      "cell_type": "code",
      "source": [
        "# 12. Write a code to access the second-to-last element of the tuple ('red', 'green', 'blue', 'yellow').\n",
        "\n",
        "colors = ('red', 'green', 'blue', 'yellow')\n",
        "\n",
        "colors[-2]"
      ],
      "metadata": {
        "colab": {
          "base_uri": "https://localhost:8080/",
          "height": 35
        },
        "id": "_QgiKbr1Zg6U",
        "outputId": "9f7945a6-75a3-44eb-a5d8-f25a9c7e75be"
      },
      "execution_count": 76,
      "outputs": [
        {
          "output_type": "execute_result",
          "data": {
            "text/plain": [
              "'blue'"
            ],
            "application/vnd.google.colaboratory.intrinsic+json": {
              "type": "string"
            }
          },
          "metadata": {},
          "execution_count": 76
        }
      ]
    },
    {
      "cell_type": "code",
      "source": [
        "# 13.Write a code to find the minimum number in the tuple (10, 20, 5, 15).\n",
        "\n",
        "numbers = (10, 20, 5, 15)\n",
        "\n",
        "min(numbers)"
      ],
      "metadata": {
        "colab": {
          "base_uri": "https://localhost:8080/"
        },
        "id": "eGCrbmUAa0_Y",
        "outputId": "12b50146-96e1-4a9a-91a4-951bcc373c2d"
      },
      "execution_count": 75,
      "outputs": [
        {
          "output_type": "execute_result",
          "data": {
            "text/plain": [
              "5"
            ]
          },
          "metadata": {},
          "execution_count": 75
        }
      ]
    },
    {
      "cell_type": "code",
      "source": [
        "# 14.Write a code to find the index of the element \"cat\" in the tuple ('dog', 'cat', 'rabbit').\n",
        "\n",
        "animals = ('dog', 'cat', 'rabbit')\n",
        "\n",
        "animals.index('cat')"
      ],
      "metadata": {
        "colab": {
          "base_uri": "https://localhost:8080/"
        },
        "id": "1grkrqPCb7jM",
        "outputId": "56339f2f-9d12-4c09-cc98-6cbecc8fe9f4"
      },
      "execution_count": 74,
      "outputs": [
        {
          "output_type": "execute_result",
          "data": {
            "text/plain": [
              "1"
            ]
          },
          "metadata": {},
          "execution_count": 74
        }
      ]
    },
    {
      "cell_type": "code",
      "source": [
        "# 15.Write a code to create a tuple containing three different fruits and check if \"kiwi\" is in it.\n",
        "\n",
        "fruits = (\"apple\", \"banana\", \"orange\")\n",
        "if \"kiwi\" in fruits:\n",
        "    print(\"Kiwi is in the fruits.\")\n",
        "else:\n",
        "    print(\"Kiwi is not in the fruits.\")"
      ],
      "metadata": {
        "colab": {
          "base_uri": "https://localhost:8080/"
        },
        "id": "6Lr7jXyFgP-B",
        "outputId": "f5b485bc-ab9b-4cfe-a581-e2cd61483676"
      },
      "execution_count": 73,
      "outputs": [
        {
          "output_type": "stream",
          "name": "stdout",
          "text": [
            "Kiwi is not in the fruits.\n"
          ]
        }
      ]
    },
    {
      "cell_type": "code",
      "source": [
        "# 16.Write a code to create a set with the elements 'a', 'b', 'c' and print it.\n",
        "\n",
        "my_set = {'a', 'b', 'c'}\n",
        "\n",
        "my_set"
      ],
      "metadata": {
        "colab": {
          "base_uri": "https://localhost:8080/"
        },
        "id": "XimABYdwgP8P",
        "outputId": "9522b6b4-abf2-4a63-f47c-3fbe3c9d8096"
      },
      "execution_count": 72,
      "outputs": [
        {
          "output_type": "execute_result",
          "data": {
            "text/plain": [
              "{'a', 'b', 'c'}"
            ]
          },
          "metadata": {},
          "execution_count": 72
        }
      ]
    },
    {
      "cell_type": "code",
      "source": [
        "# 17.Write a code to clear all elements from the set {1, 2, 3, 4, 5}.\n",
        "\n",
        "my_set = {1, 2, 3, 4, 5}\n",
        "\n",
        "my_set.clear()\n",
        "\n",
        "my_set"
      ],
      "metadata": {
        "colab": {
          "base_uri": "https://localhost:8080/"
        },
        "id": "dJspzxHQhMH_",
        "outputId": "c578a46c-170f-43ab-bd32-e72226436451"
      },
      "execution_count": 71,
      "outputs": [
        {
          "output_type": "execute_result",
          "data": {
            "text/plain": [
              "set()"
            ]
          },
          "metadata": {},
          "execution_count": 71
        }
      ]
    },
    {
      "cell_type": "code",
      "source": [
        "# 18.Write a code to remove the element 4 from the set {1, 2, 3, 4}.\n",
        "\n",
        "my_set = {1, 2, 3, 4}\n",
        "\n",
        "my_set.remove(4)\n",
        "\n",
        "my_set"
      ],
      "metadata": {
        "colab": {
          "base_uri": "https://localhost:8080/"
        },
        "id": "gDZ-o93_htcd",
        "outputId": "62f63e89-25ff-45d6-bf7a-59c3987d0cec"
      },
      "execution_count": 70,
      "outputs": [
        {
          "output_type": "execute_result",
          "data": {
            "text/plain": [
              "{1, 2, 3}"
            ]
          },
          "metadata": {},
          "execution_count": 70
        }
      ]
    },
    {
      "cell_type": "code",
      "source": [
        "# 19. Write a code to find the union of two sets {1, 2, 3} and {3, 4, 5}.\n",
        "\n",
        "set1 = {1, 2, 3}\n",
        "\n",
        "set2 = {3, 4, 5}\n",
        "\n",
        "union_set = set1.union(set2)\n",
        "\n",
        "union_set"
      ],
      "metadata": {
        "colab": {
          "base_uri": "https://localhost:8080/"
        },
        "id": "tKHH49_9iRFi",
        "outputId": "f236b9ca-f270-4f00-ee2d-7e29e1a8762f"
      },
      "execution_count": 69,
      "outputs": [
        {
          "output_type": "execute_result",
          "data": {
            "text/plain": [
              "{1, 2, 3, 4, 5}"
            ]
          },
          "metadata": {},
          "execution_count": 69
        }
      ]
    },
    {
      "cell_type": "code",
      "source": [
        "# 20.Write a code to find the intersection of two sets {1, 2, 3} and {2, 3, 4}.\n",
        "\n",
        "set1 = {1, 2, 3}\n",
        "\n",
        "set2 = {2, 3, 4}\n",
        "\n",
        "intersection_set = set1.intersection(set2)\n",
        "\n",
        "intersection_set"
      ],
      "metadata": {
        "colab": {
          "base_uri": "https://localhost:8080/"
        },
        "id": "mHx1ULtMiRD3",
        "outputId": "8d8e3acb-a540-4f0a-eadc-86a84a7fd1a7"
      },
      "execution_count": 68,
      "outputs": [
        {
          "output_type": "execute_result",
          "data": {
            "text/plain": [
              "{2, 3}"
            ]
          },
          "metadata": {},
          "execution_count": 68
        }
      ]
    },
    {
      "cell_type": "code",
      "source": [
        "# 21. Write a code to create a dictionary with the keys \"name\", \"age\", and \"city\", and print it.\n",
        "\n",
        "person = {\n",
        "    \"name\": \"Jishan\",\n",
        "    \"age\": 27,\n",
        "    \"city\": \"Noida\"\n",
        "}\n",
        "print(person)"
      ],
      "metadata": {
        "colab": {
          "base_uri": "https://localhost:8080/"
        },
        "id": "ftdtQs-cjFOJ",
        "outputId": "0dd18275-be43-4599-fd47-f97b0901edd8"
      },
      "execution_count": 67,
      "outputs": [
        {
          "output_type": "stream",
          "name": "stdout",
          "text": [
            "{'name': 'Jishan', 'age': 27, 'city': 'Noida'}\n"
          ]
        }
      ]
    },
    {
      "cell_type": "code",
      "source": [
        "# 22.Write a code to add a new key-value pair \"country\": \"USA\" to the dictionary {'name': 'John', 'age': 25}.\n",
        "\n",
        "person = {'name': 'John', 'age': 25}\n",
        "\n",
        "person['country'] = 'USA'\n",
        "\n",
        "print(person)"
      ],
      "metadata": {
        "colab": {
          "base_uri": "https://localhost:8080/"
        },
        "id": "_3cRsQNtj6x5",
        "outputId": "69443687-603b-48af-c894-db0951a7f181"
      },
      "execution_count": 66,
      "outputs": [
        {
          "output_type": "stream",
          "name": "stdout",
          "text": [
            "{'name': 'John', 'age': 25, 'country': 'USA'}\n"
          ]
        }
      ]
    },
    {
      "cell_type": "code",
      "source": [
        "# 23.Write a code to access the value associated with the key \"name\" in the dictionary {'name': 'Alice', 'age': 30}.\n",
        "\n",
        "person = {'name': 'Alice', 'age': 30}\n",
        "\n",
        "name_value = person['name']\n",
        "\n",
        "name_value"
      ],
      "metadata": {
        "colab": {
          "base_uri": "https://localhost:8080/",
          "height": 35
        },
        "id": "xIRhKFKAkVfM",
        "outputId": "60dfe7e9-c433-496f-9a96-c80ece2ec256"
      },
      "execution_count": 65,
      "outputs": [
        {
          "output_type": "execute_result",
          "data": {
            "text/plain": [
              "'Alice'"
            ],
            "application/vnd.google.colaboratory.intrinsic+json": {
              "type": "string"
            }
          },
          "metadata": {},
          "execution_count": 65
        }
      ]
    },
    {
      "cell_type": "code",
      "source": [
        "# 24.Write a code to remove the key \"age\" from the dictionary {'name': 'Bob', 'age': 22, 'city': 'New York'}.\n",
        "\n",
        "person = {'name': 'Bob', 'age': 22, 'city': 'New York'}\n",
        "\n",
        "person.pop('age')\n",
        "\n",
        "person"
      ],
      "metadata": {
        "colab": {
          "base_uri": "https://localhost:8080/"
        },
        "id": "cgFts7jXkVdi",
        "outputId": "03ea4d5e-2db8-4d70-f302-ec45e5635f3a"
      },
      "execution_count": 64,
      "outputs": [
        {
          "output_type": "execute_result",
          "data": {
            "text/plain": [
              "{'name': 'Bob', 'city': 'New York'}"
            ]
          },
          "metadata": {},
          "execution_count": 64
        }
      ]
    },
    {
      "cell_type": "code",
      "source": [
        "# 25.Write a code to check if the key \"city\" exists in the dictionary {'name': 'Alice', 'city': 'Paris'}.\n",
        "\n",
        "person = {'name': 'Alice', 'city': 'Paris'}\n",
        "if 'city' in person:\n",
        "    print(\"city exists in the person.\")\n",
        "else:\n",
        "    print(\"city does not exist in the person.\")\n"
      ],
      "metadata": {
        "colab": {
          "base_uri": "https://localhost:8080/"
        },
        "id": "M0ZAVPc5lVBP",
        "outputId": "af96eef7-8100-4091-bab7-393f7614e8d0"
      },
      "execution_count": 63,
      "outputs": [
        {
          "output_type": "stream",
          "name": "stdout",
          "text": [
            "city exists in the person.\n"
          ]
        }
      ]
    },
    {
      "cell_type": "code",
      "source": [
        "# 26.Write a code to create a list, a tuple, and a dictionary, and print them all.\n",
        "\n",
        "my_list = [1, 2, 3, 4, 5]\n",
        "\n",
        "my_tuple = ('apple', 'banana', 'mango')\n",
        "\n",
        "my_dict = {'name': 'Jishan', 'age': 27, 'city': 'Noida'}\n",
        "\n",
        "print(\"List:\", my_list)\n",
        "\n",
        "print(\"Tuple:\", my_tuple)\n",
        "\n",
        "print(\"Dictionary:\", my_dict)"
      ],
      "metadata": {
        "colab": {
          "base_uri": "https://localhost:8080/"
        },
        "id": "tx1X3l0XlU_W",
        "outputId": "557dee1d-82f4-43da-9d8c-44b17bd75274"
      },
      "execution_count": 62,
      "outputs": [
        {
          "output_type": "stream",
          "name": "stdout",
          "text": [
            "List: [1, 2, 3, 4, 5]\n",
            "Tuple: ('apple', 'banana', 'mango')\n",
            "Dictionary: {'name': 'Jishan', 'age': 27, 'city': 'Noida'}\n"
          ]
        }
      ]
    },
    {
      "cell_type": "code",
      "source": [
        "'''27.Write a code to create a list of 5 random numbers between 1 and 100, sort it in ascending order, and print the\n",
        "result.(replaced).'''\n",
        "\n",
        "import random\n",
        "\n",
        "random_numbers = [random.randint(1, 100) for _ in range(5)]\n",
        "\n",
        "random_numbers.sort()\n",
        "\n",
        "print(\"Sorted random numbers:\", random_numbers)\n",
        "\n",
        "\n"
      ],
      "metadata": {
        "colab": {
          "base_uri": "https://localhost:8080/"
        },
        "id": "N0HCRkcsmwZf",
        "outputId": "9143be0f-6b4c-4de9-d696-ca5bfb53bbff"
      },
      "execution_count": 57,
      "outputs": [
        {
          "output_type": "stream",
          "name": "stdout",
          "text": [
            "Sorted random numbers: [7, 45, 70, 82, 94]\n"
          ]
        }
      ]
    },
    {
      "cell_type": "code",
      "source": [
        "# 28.Write a code to create a list with strings and print the element at the third index.\n",
        "\n",
        "words = [\"Jishan\", \"Noida\", \"Uttarpradesh\", \"mango\", \"dataanalyst\"]\n",
        "\n",
        "print(\"Element at third index:\", words[3])"
      ],
      "metadata": {
        "colab": {
          "base_uri": "https://localhost:8080/"
        },
        "id": "UgjLY9hZqPh3",
        "outputId": "5b299008-b5e5-40c1-bfc4-22359e0a7631"
      },
      "execution_count": 58,
      "outputs": [
        {
          "output_type": "stream",
          "name": "stdout",
          "text": [
            "Element at third index: mango\n"
          ]
        }
      ]
    },
    {
      "cell_type": "code",
      "source": [
        "# 29.Write a code to combine two dictionaries into one and print the result.\n",
        "\n",
        "dict1 = {'a': 1, 'b': 2}\n",
        "dict2 = {'c': 3, 'd': 4}\n",
        "\n",
        "combined_dict = {**dict1, **dict2}\n",
        "\n",
        "print(combined_dict)"
      ],
      "metadata": {
        "colab": {
          "base_uri": "https://localhost:8080/"
        },
        "id": "N89TyNIyrdc8",
        "outputId": "cc8d6877-fed3-423c-8e2a-998caae1fffd"
      },
      "execution_count": 59,
      "outputs": [
        {
          "output_type": "stream",
          "name": "stdout",
          "text": [
            "{'a': 1, 'b': 2, 'c': 3, 'd': 4}\n"
          ]
        }
      ]
    },
    {
      "cell_type": "code",
      "source": [
        "# 30.Write a code to convert a list of strings into a set.\n",
        "\n",
        "string_list = [\"apple\", \"banana\", \"mango\", \"apple\"]\n",
        "\n",
        "string_set = set(string_list)\n",
        "\n",
        "print(string_set)"
      ],
      "metadata": {
        "colab": {
          "base_uri": "https://localhost:8080/"
        },
        "id": "gXkMAMrBsRWg",
        "outputId": "561440a8-2c61-4cb9-da8f-cefdf078e403"
      },
      "execution_count": 60,
      "outputs": [
        {
          "output_type": "stream",
          "name": "stdout",
          "text": [
            "{'mango', 'apple', 'banana'}\n"
          ]
        }
      ]
    },
    {
      "cell_type": "markdown",
      "source": [],
      "metadata": {
        "id": "8uBAeJ2_0269"
      }
    },
    {
      "cell_type": "markdown",
      "source": [],
      "metadata": {
        "id": "dODObTJKhJj2"
      }
    },
    {
      "cell_type": "markdown",
      "source": [],
      "metadata": {
        "id": "A7qDP9WuIF5_"
      }
    },
    {
      "cell_type": "markdown",
      "source": [],
      "metadata": {
        "id": "1wqL9rljFpcO"
      }
    },
    {
      "cell_type": "markdown",
      "source": [],
      "metadata": {
        "id": "UIdH_HBNFZdH"
      }
    },
    {
      "cell_type": "markdown",
      "source": [],
      "metadata": {
        "id": "zJLQgWquB7Jg"
      }
    },
    {
      "cell_type": "markdown",
      "source": [],
      "metadata": {
        "id": "FNiNevJABEBr"
      }
    }
  ]
}